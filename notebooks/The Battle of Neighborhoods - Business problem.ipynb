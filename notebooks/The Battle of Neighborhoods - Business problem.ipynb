{
 "cells": [
  {
   "cell_type": "markdown",
   "metadata": {},
   "source": [
    "# The Battle of Neighborhoods - New York City"
   ]
  },
  {
   "cell_type": "markdown",
   "metadata": {},
   "source": [
    "### Introduction"
   ]
  },
  {
   "cell_type": "markdown",
   "metadata": {},
   "source": [
    "This project is for those who seek for a job and need to find a temporary hotel to stay until he gets a job. To simplify, here the person seeks for a chef position in restaurants and needs to find a hotel to stay in New York city."
   ]
  },
  {
   "cell_type": "markdown",
   "metadata": {},
   "source": [
    "### Business Problem and Discussion"
   ]
  },
  {
   "cell_type": "markdown",
   "metadata": {},
   "source": [
    "To recommend a list of hotels for a person in the neighborhood which has more restaurant venues is our business problem. Basically, if a person is having more experience in any field, he will look for a better career opportunity. So, he will look for company which is having highest ratings. Similarly, here for the person who looks for a job in a restaurant, he needs to apply for a restaurant with high ratings. Also, for a temporary stay he may want a hotel in same neighbourhood which has high ratings. New York City is the most populous city in the united states and more happening city which has more opportunities. Because of the city's immigrant history, there are plenty of restaurants with variety of cuisine are there. Hence for a job seeker, based on his cooking style like Chinese, Italian, Indian etc., we need to find neighborhoods cluster accordingly. After finding the neighborhoods list, we need to find list to best hotels in those neighborhoods cluster for the client to stay. In this project, let us say that our client Michael looks for a chef position in Italian restaurant in the city of New York."
   ]
  }
 ],
 "metadata": {
  "kernelspec": {
   "display_name": "Python 3",
   "language": "python",
   "name": "python3"
  },
  "language_info": {
   "codemirror_mode": {
    "name": "ipython",
    "version": 3
   },
   "file_extension": ".py",
   "mimetype": "text/x-python",
   "name": "python",
   "nbconvert_exporter": "python",
   "pygments_lexer": "ipython3",
   "version": "3.7.0"
  }
 },
 "nbformat": 4,
 "nbformat_minor": 2
}
